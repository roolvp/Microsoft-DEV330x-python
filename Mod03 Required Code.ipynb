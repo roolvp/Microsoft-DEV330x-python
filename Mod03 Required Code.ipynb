{
 "cells": [
  {
   "cell_type": "code",
   "execution_count": 14,
   "metadata": {},
   "outputs": [
    {
     "name": "stdout",
     "output_type": "stream",
     "text": [
      "Enter UPC number:7\n",
      "Enter item descriptionasdf\n",
      "Enter unit priceasd\n",
      "ValueError\n",
      "Insert an integer\n",
      "Enter UPC number:888\n",
      "Enter item descriptionj\n",
      "Enter unit pricej\n",
      "ValueError\n",
      "Insert an integer\n",
      "Enter UPC number:847283\n",
      "Enter item descriptiontest existing\n",
      "Enter unit price88\n",
      "Enter item quantity99\n",
      "Existing item, updating: ['test existing', 88.0, 99]\n",
      "  UPC   | Description       |  Unit Price  |  Quantity \n",
      "-------------------------------------------------------\n",
      "847283  |  test existing|       88.0| 99 \n"
     ]
    }
   ],
   "source": [
    "# [ ] Use the `inventory` dictionary in a program that asks the user for a \n",
    "#     UPC number, description, unit price, quantity in stock.\n",
    "# If the item already exists in the inventory, the information is updated, \n",
    "#     and your program should display a message that it is updating the entry.\n",
    "# If the item does NOT exists in the inventory, a new dictionary entry is created, \n",
    "#     and your program should display a message that it is creating a new entry.\n",
    "# Use try/except in the program.\n",
    "# test cases\n",
    "\n",
    "# For an existing item\n",
    "'''\n",
    "Enter UPC number: 839529\n",
    "Enter item description: TOMATOS 1LB\n",
    "Enter unit price: 1.55\n",
    "Enter item quantity: 21\n",
    "Existing item, updating: ['TOMATOS 1LB', 1.29, 25]\n",
    "\n",
    "  UPC   | Description       |  Unit Price  |  Quantity \n",
    "-------------------------------------------------------\n",
    "839529  | TOMATOS 1LB       |         1.55 |      21.00\n",
    "'''\n",
    "\n",
    "# For a new item\n",
    "'''\n",
    "Enter UPC number: 29430\n",
    "Enter item description: ORANGE 1LB\n",
    "Enter unit price: 0.99\n",
    "Enter item quantity: 40\n",
    "New item, creating ORANGE 1LB\n",
    "\n",
    "  UPC   | Description       |  Unit Price  |  Quantity \n",
    "-------------------------------------------------------\n",
    "29430   | ORANGE 1LB        |         0.99 |      40.00\n",
    "'''\n",
    "\n",
    "inventory = {847502: ['APPLES 1LB', 1.99, 50], 847283: ['OLIVE OIL', 10.99, 100], 839529: ['TOMATOS 1LB', 1.29, 25], 483946: ['MILK 1/2G', 3.45, 35], 493402: ['FLOUR 5LB', 2.99, 40], 485034: ['BELL PEPPERS 1LB', 1.35, 28], 828391: ['WHITE TUNA', 1.69, 100], 449023: ['CHEESE 1/2LB', 4.99, 15]}\n",
    "\n",
    "\n",
    "# get UPC from user, handling cases where the input is invalid with try/except\n",
    "test = True\n",
    "while test== True:\n",
    "    try:\n",
    "        uupc = int(input(\"Enter UPC number:\"))\n",
    "        desc = (input(\"Enter item description\"))\n",
    "        uprice = float(input(\"Enter unit price\"))\n",
    "        iqty =  int(input(\"Enter item quantity\"))\n",
    "        test = False\n",
    "    except ValueError:\n",
    "        print(\"ValueError\")\n",
    "        print(\"Insert an integer\")\n",
    "\n",
    "# display message, either \"updating\" or creating\" and then item is being updated display the `value` being updated\n",
    "if uupc in inventory.keys():\n",
    "    print(\"Existing item, updating: {}\".format(str([desc,uprice,iqty])))\n",
    "else:\n",
    "    print(\"New item, creating {0}\".format(desc))\n",
    "\n",
    "# update dictionary entry\n",
    "inventory.update({uupc: [desc,uprice,iqty]})\n",
    "\n",
    "# print header including \n",
    "# HINT: look at the testing samples shown in comments above for new item and for existing item\n",
    "#TODO: Your code goes here\n",
    "\n",
    "# print actual data from the dictionary (See Hint above)\n",
    "print(\"  UPC   | Description       |  Unit Price  |  Quantity \")\n",
    "print('-------------------------------------------------------')\n",
    "thevalues = tuple([uupc] + [desc,uprice,iqty])\n",
    "print(\"{0[0]}  |  {0[1]}|       {0[2]}| {0[3]} \".format(thevalues))\n"
   ]
  },
  {
   "cell_type": "code",
   "execution_count": null,
   "metadata": {
    "collapsed": true
   },
   "outputs": [],
   "source": []
  },
  {
   "cell_type": "code",
   "execution_count": null,
   "metadata": {
    "collapsed": true
   },
   "outputs": [],
   "source": []
  }
 ],
 "metadata": {
  "kernelspec": {
   "display_name": "Python 3",
   "language": "python",
   "name": "python3"
  }
 },
 "nbformat": 4,
 "nbformat_minor": 2
}
