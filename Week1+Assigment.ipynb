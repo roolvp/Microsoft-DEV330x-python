{
 "cells": [
  {
   "cell_type": "markdown",
   "metadata": {},
   "source": [
    "## Resources\n",
    "### The string method format\n",
    "https://www.python-course.eu/python3_formatted_output.php\n",
    "\n",
    "### Joining list of lists\n",
    "https://stackoverflow.com/questions/952914/making-a-flat-list-out-of-list-of-lists-in-python/952952"
   ]
  },
  {
   "cell_type": "code",
   "execution_count": 3,
   "metadata": {},
   "outputs": [
    {
     "name": "stdout",
     "output_type": "stream",
     "text": [
      " 7 | 8 | 9 \n",
      "----------\n",
      " 4 | 5 | 6 \n",
      "----------\n",
      " 1 | 2 | 3 \n"
     ]
    }
   ],
   "source": [
    "from IPython.display import clear_output #to clear the output (specific to Jupyter notebooks and ipython)\n",
    "from random import randint\n",
    "\n",
    "def draw(board):\n",
    "    \"\"\"\n",
    "    Draw the `board` table.\n",
    "    \n",
    "    The board reflects the current state of the game, a number indicates an available location.\n",
    "      \n",
    "    args:\n",
    "        board: 3x3 table (list of lists) containing the current state of the game\n",
    "        \n",
    "    returns:\n",
    "        None\n",
    "        \n",
    "    examples:\n",
    "        At the beginning of the game: board = [['7', '8', '9'], ['4', '5', '6'], ['1', '2', '3']]\n",
    "        The printout should look like:\n",
    "\n",
    "         7 | 8 | 9 \n",
    "        -----------\n",
    "         4 | 5 | 6 \n",
    "        -----------\n",
    "         1 | 2 | 3 \n",
    "\n",
    "         After a few marks: board = [['7', '8', 'X'], ['O', 'O', '6'], ['1', 'X', '3']]\n",
    "         The printout should look like:\n",
    "         7 | 8 | X \n",
    "        -----------\n",
    "         O | O | 6 \n",
    "        -----------\n",
    "         1 | X | 3 \n",
    "    \"\"\"\n",
    "    \n",
    "    for idx,row in enumerate(board):\n",
    "        #^3s is centering the string and leaving 1 character on each side useful instead of leaving spaces\n",
    "        print(\"{:^3s}|{:^3s}|{:^3s}\".format(row[0],row[1],row[2]))\n",
    "        if  idx != len(board) - 1:\n",
    "            print('----------')\n",
    "board = [['7', '8', '9'], ['4', '5', '6'], ['1', '2', '3']]\n",
    "draw(board)"
   ]
  },
  {
   "cell_type": "code",
   "execution_count": 4,
   "metadata": {},
   "outputs": [
    {
     "name": "stdout",
     "output_type": "stream",
     "text": [
      "['4', '5', '6']\n",
      "3\n"
     ]
    }
   ],
   "source": [
    "board = [['7', '8', '9'], ['4', '5', '6'], ['1', '2', '3']]\n",
    "print(board[1])\n",
    "print(len(board))"
   ]
  },
  {
   "cell_type": "code",
   "execution_count": 53,
   "metadata": {
    "collapsed": true
   },
   "outputs": [],
   "source": [
    "    "
   ]
  },
  {
   "cell_type": "code",
   "execution_count": 67,
   "metadata": {},
   "outputs": [
    {
     "name": "stdout",
     "output_type": "stream",
     "text": [
      "['1', '2', '3', '0', '0', '6', '7', '8', '9']\n",
      "0\n"
     ]
    },
    {
     "data": {
      "text/plain": [
       "False"
      ]
     },
     "execution_count": 67,
     "metadata": {},
     "output_type": "execute_result"
    }
   ],
   "source": [
    "def available(location, board):\n",
    "    \"\"\"\n",
    "    Check the availability of a `location` on the current `board`\n",
    "    \n",
    "    An available location on the board contains a number between 1 and 9 stored as a string.\n",
    "    If the location contains 'X' or 'O', the location is not available and the function should return False;\n",
    "    otherwise, the function should return True indicating the location is available\n",
    "    \n",
    "    args:\n",
    "        location: a number between 1 and 9 stored as a string\n",
    "        board: 3x3 table (list of lists) containing the current state of the game\n",
    "    \n",
    "    returns:\n",
    "        True if the location is available. False if the location is not available\n",
    "        \n",
    "    examples:\n",
    "        At the beginning of the game: board = [['7', '8', '9'], ['4', '5', '6'], ['1', '2', '3']]\n",
    "        The printout should look like:\n",
    "\n",
    "         7 | 8 | 9 \n",
    "        -----------\n",
    "         4 | 5 | 6 \n",
    "        -----------\n",
    "         1 | 2 | 3 \n",
    "         \n",
    "         available(\"1\", board) --> returns True\n",
    "         available(\"9\", board) --> returns True\n",
    "\n",
    "\n",
    "         After a few marks: board = [['7', '8', 'X'], ['O', 'O', '6'], ['1', 'X', '3']]\n",
    "         The printout should look like:\n",
    "         7 | 8 | X \n",
    "        -----------\n",
    "         O | O | 6 \n",
    "        -----------\n",
    "         1 | X | 3 \n",
    "        \n",
    "         available(\"1\", board) --> returns True, because there is a number\n",
    "         available(\"5\", board) --> returns False, because there is 'O'\n",
    "         available(\"9\", board) --> returns False, because there is 'X'\n",
    "    \"\"\"\n",
    "    #reverses board to get ids\n",
    "    appendedlist =board[2]+board[1]+board[0]\n",
    "    print(appendedlist)\n",
    "    print(appendedlist[int(location) - 1])\n",
    "    return appendedlist[int(location) - 1] not in ['X','O']\n",
    "available(4, board)"
   ]
  },
  {
   "cell_type": "code",
   "execution_count": 40,
   "metadata": {
    "collapsed": true
   },
   "outputs": [],
   "source": []
  },
  {
   "cell_type": "code",
   "execution_count": 54,
   "metadata": {},
   "outputs": [
    {
     "name": "stdout",
     "output_type": "stream",
     "text": [
      "['1', '2', '3', '4', '0', '6', '7', '8', '9']\n"
     ]
    }
   ],
   "source": [
    "appended = reverselist(board)\n",
    "print(appended)"
   ]
  },
  {
   "cell_type": "code",
   "execution_count": 57,
   "metadata": {},
   "outputs": [
    {
     "name": "stdout",
     "output_type": "stream",
     "text": [
      "['1', '2', '3', '4', '0', '6', '7', '8', '9']\n"
     ]
    }
   ],
   "source": [
    "newboard = board[2]+board[1]+board[0]\n",
    "print(newboard)"
   ]
  },
  {
   "cell_type": "code",
   "execution_count": 61,
   "metadata": {},
   "outputs": [
    {
     "name": "stdout",
     "output_type": "stream",
     "text": [
      "Initial board\n",
      "[['7', '8', '9'], ['0', '0', '6'], ['1', '2', '3']]\n",
      "[['7', '8', '9'], ['0', '0', '6'], ['1', '2', '3']]\n"
     ]
    }
   ],
   "source": [
    "def mark(player, location, board):\n",
    "    \"\"\"\n",
    "    Mark `location` on the `board` with the `player` symbol.\n",
    "    \n",
    "    Should replace the `location` number on the board with `X` or `O`\n",
    "    \n",
    "    args:\n",
    "        player: player's symbol, either 'X' or 'O'\n",
    "        location: a number between 1 and 9 stored as a string\n",
    "        board: 3x3 table (list of lists) containing the current state of the game\n",
    "    \n",
    "    returns:\n",
    "        None\n",
    "        \n",
    "    examples:\n",
    "        At the beginning of the game: board = [['7', '8', '9'], ['4', '5', '6'], ['1', '2', '3']]\n",
    "        The printout should look like:\n",
    "\n",
    "         7 | 8 | 9 \n",
    "        -----------\n",
    "         4 | 5 | 6 \n",
    "        -----------\n",
    "         1 | 2 | 3 \n",
    "         \n",
    "         After mark('O', '4', board)\n",
    "         The printout should look like:\n",
    "         7 | 8 | 9 \n",
    "        -----------\n",
    "         O | 5 | 6 \n",
    "        -----------\n",
    "         1 | 2 | 3 \n",
    "        \n",
    "         After mark('X', '3', board)\n",
    "         The printout should look like:\n",
    "         7 | 8 | 9 \n",
    "        -----------\n",
    "         O | 5 | 6 \n",
    "        -----------\n",
    "         1 | 2 | X \n",
    "         \n",
    "         After mark('O', '9', board)\n",
    "         The printout should look like:\n",
    "         7 | 8 | O \n",
    "        -----------\n",
    "         O | 5 | 6 \n",
    "        -----------\n",
    "         1 | 2 | X \n",
    "    \"\"\"\n",
    "    #TODO\n",
    "    #get board\n",
    "    #reverses the list\n",
    "    appendedlist = board[2]+board[1]+board[0]\n",
    "    #places mark in board\n",
    "    appendedlist[int(location) - 1] = player\n",
    "    #split appended list into chunks\n",
    "    #in leaps of 3 creates a list of lists with 3 numbers\n",
    "    board = [appendedlist[item:item+3] for item in range(0,len(appendedlist),3)] \n",
    "    board.reverse()\n",
    "    return board\n",
    "board = mark('0', '4', board)\n",
    "print(board)"
   ]
  },
  {
   "cell_type": "code",
   "execution_count": 62,
   "metadata": {},
   "outputs": [
    {
     "name": "stdout",
     "output_type": "stream",
     "text": [
      "[['7', '8', '9'], ['0', '0', '6'], ['1', '2', '3']]\n"
     ]
    }
   ],
   "source": [
    "print(board)"
   ]
  },
  {
   "cell_type": "code",
   "execution_count": 73,
   "metadata": {
    "collapsed": true
   },
   "outputs": [],
   "source": [
    "def check_win(board):\n",
    "    \"\"\"\n",
    "    Check if there is a winner.\n",
    "    \n",
    "    A win happens if the either of the players was able to place 3 symbols ('X' or 'O') in:\n",
    "    a horizontal, vertical, diagonal, or anti-diagonal placement.\n",
    "    \n",
    "    args:\n",
    "        board: 3x3 table (list of lists) containing the current state of the game\n",
    "        \n",
    "    returns:\n",
    "        True if there is a winner. False if there is no winner yet\n",
    "        \n",
    "    examples:\n",
    "        Horizontal win:\n",
    "        ================\n",
    "\n",
    "         7 | O | 9 \n",
    "        -----------\n",
    "         X | X | X \n",
    "        -----------\n",
    "         1 | O | 3 \n",
    "        check_win(board) --> returns True, because 'X' won\n",
    "        \n",
    "\n",
    "         O | O | O \n",
    "        -----------\n",
    "         X | X | 6 \n",
    "        -----------\n",
    "         X | O | 3 \n",
    "        check_win(board) --> returns True, because 'O' won\n",
    "    \n",
    "    \n",
    "        Vertical win:\n",
    "        ================\n",
    "\n",
    "         7 | 8 | X \n",
    "        -----------\n",
    "         X | O | X \n",
    "        -----------\n",
    "         O | O | X \n",
    "        check_win(board) --> returns True, because 'X' won\n",
    "         \n",
    "\n",
    "         X | O | O \n",
    "        -----------\n",
    "         4 | O | 6 \n",
    "        -----------\n",
    "         X | O | X \n",
    "        check_win(board) --> returns True, because 'O' won\n",
    "        \n",
    "        \n",
    "        Diagonal win:\n",
    "        ================\n",
    "\n",
    "         X | 8 | O \n",
    "        -----------\n",
    "         4 | X | X \n",
    "        -----------\n",
    "         O | O | X \n",
    "        check_win(board) --> returns True, because 'X' won\n",
    "         \n",
    "\n",
    "         O | X | O \n",
    "        -----------\n",
    "         X | O | X \n",
    "        -----------\n",
    "         1 | 2 | O \n",
    "        check_win(board) --> returns True, because 'O' won\n",
    "        \n",
    "        \n",
    "        Anti-Diagonal win:\n",
    "        ================\n",
    "\n",
    "         O | 8 | X \n",
    "        -----------\n",
    "         4 | X | X \n",
    "        -----------\n",
    "         X | O | O \n",
    "        check_win(board) --> returns True, because 'X' won\n",
    "         \n",
    "\n",
    "         7 | 8 | O \n",
    "        -----------\n",
    "         X | O | X \n",
    "        -----------\n",
    "         O | O | X \n",
    "        check_win(board) --> returns True, because 'O' won\n",
    "        \n",
    "        \n",
    "        No winners yet:\n",
    "        ================\n",
    "\n",
    "         O | 8 | 9 \n",
    "        -----------\n",
    "         4 | X | X \n",
    "        -----------\n",
    "         X | O | O \n",
    "        check_win(board) --> returns False\n",
    "    \"\"\"\n",
    "    #TODO\n",
    "    #check all horizontals\n",
    "    for idx,row in enumerate(board):\n",
    "        if row[1:] == row[:-1]:\n",
    "            print('Its a line')\n",
    "            return True\n",
    "    #compare verticals\n",
    "    for idx in range(len(board[1])):\n",
    "        if board[0][idx] == board[1][idx] == board[2][idx]:\n",
    "            print('Its a match')\n",
    "            return True\n",
    "    #check all diagonals\n",
    "    if board[0][0] == board[1][1] == board[2][2]:\n",
    "        print('It is a match')\n",
    "        return True\n",
    "    if board[0][2] == board[1][1] == board[2][0]:\n",
    "        print('It is a match')\n",
    "        return True\n",
    "    #check all verticals    \n",
    "    return False"
   ]
  },
  {
   "cell_type": "code",
   "execution_count": 80,
   "metadata": {},
   "outputs": [
    {
     "name": "stdout",
     "output_type": "stream",
     "text": [
      "Initial board\n",
      "[['0', '8', '9'], ['0', '0', 'x'], ['1', '2', '0']]\n",
      "[['0', '8', '9'], ['0', '0', 'x'], ['1', '2', 'x']]\n"
     ]
    },
    {
     "data": {
      "text/plain": [
       "False"
      ]
     },
     "execution_count": 80,
     "metadata": {},
     "output_type": "execute_result"
    }
   ],
   "source": [
    "board = mark('x', '3', board)\n",
    "print(board)\n",
    "check_win(board)"
   ]
  },
  {
   "cell_type": "code",
   "execution_count": 96,
   "metadata": {
    "collapsed": true
   },
   "outputs": [],
   "source": [
    "def check_tie(board):\n",
    "    \"\"\"\n",
    "    Check the game for a tie, no available locations and no winners.\n",
    "    \n",
    "    args:\n",
    "        board: 3x3 table (list of lists) containing the current state of the game\n",
    "        \n",
    "    returns:\n",
    "        True if there is a tie. False the board is not full yet or there is a winner\n",
    "        \n",
    "    examples:\n",
    "\n",
    "         O | O | X \n",
    "        -----------\n",
    "         X | X | O \n",
    "        -----------\n",
    "         O | O | X \n",
    "         \n",
    "        check_tie(board) --> returns True\n",
    "         \n",
    "\n",
    "\n",
    "         O | O | 9 \n",
    "        -----------\n",
    "         X | X | 6 \n",
    "        -----------\n",
    "         X | O | 3 \n",
    "         \n",
    "        check_tie(board) --> returns False, because there are still available location\n",
    "    \"\"\"\n",
    "    #check that are positions available -- Return False if available\n",
    "    if False in [item in ['X','O'] for sublist in board for item in sublist]:\n",
    "        print(\"places available\")\n",
    "        return False    \n",
    "    #check  that nobody has won  -- \n",
    "    if check_win(board) == False:\n",
    "        print(\"It's a draw\")\n",
    "        return True"
   ]
  },
  {
   "cell_type": "code",
   "execution_count": null,
   "metadata": {
    "collapsed": true
   },
   "outputs": [],
   "source": []
  },
  {
   "cell_type": "code",
   "execution_count": 95,
   "metadata": {},
   "outputs": [
    {
     "name": "stdout",
     "output_type": "stream",
     "text": [
      "[['0', '8', '9'], ['0', '0', 'x'], ['1', '2', 'x']]\n",
      "[['0', '8', '9'], ['0', '0', 'x'], ['1', '2', 'x']]\n",
      "[False, False, False, False, False, False, False, False, False]\n"
     ]
    }
   ],
   "source": [
    "print(board)\n",
    "appendedlist = [place for place in [row for row in board]]\n",
    "print(appendedlist)\n",
    "\n",
    "appendedlist = [item in ['X','O'] for sublist in board for item in sublist]  \n",
    "print(appendedlist)"
   ]
  },
  {
   "cell_type": "code",
   "execution_count": 1,
   "metadata": {
    "collapsed": true
   },
   "outputs": [],
   "source": [
    "def dashes():\n",
    "    \"\"\"Print a fancy line of dashes\"\"\"\n",
    "    print(\"o\" + 35 *'-' + \"o\")\n",
    "    \n",
    "def display(message):\n",
    "    \"\"\"\n",
    "    Print `message` in the center of a 35 characters string\n",
    "    \n",
    "    args:\n",
    "        message: string to display\n",
    "    \n",
    "    returns:\n",
    "        None\n",
    "    \"\"\"\n",
    "    print(\"|{:^35s}|\".format(message))"
   ]
  },
  {
   "cell_type": "code",
   "execution_count": 2,
   "metadata": {},
   "outputs": [
    {
     "name": "stdout",
     "output_type": "stream",
     "text": [
      "|            Hello World            |\n"
     ]
    }
   ],
   "source": [
    "display(\"Hello World\")"
   ]
  },
  {
   "cell_type": "code",
   "execution_count": null,
   "metadata": {
    "collapsed": true
   },
   "outputs": [],
   "source": [
    "def main():\n",
    "    # initializing game\n",
    "    board = [['7', '8', '9'], ['4', '5', '6'], ['1', '2', '3']]\n",
    "    # select the first player randomly\n",
    "    player = ['X', 'O']\n",
    "    turn = randint(0, 1)\n",
    "\n",
    "    win = False\n",
    "    tie = False\n",
    "    while(not win and not tie):\n",
    "        # switch players\n",
    "        turn = (turn + 1) % 2\n",
    "        current_player = player[turn] # contains 'X' or 'O'\n",
    "\n",
    "        clear_output()\n",
    "        \n",
    "        # display header\n",
    "        dashes()\n",
    "        display(\"TIC TAC TOE\")\n",
    "        dashes()\n",
    "\n",
    "        # display game board\n",
    "        print()\n",
    "        draw(board)\n",
    "        print()\n",
    "\n",
    "        # display footer\n",
    "        dashes()\n",
    "        # player select a location to mark\n",
    "        while True:\n",
    "            location = input(\"|{:s} Turn, select a number (1, 9): \".format(current_player))\n",
    "            if available(location, board):\n",
    "                break # Only the user input loop, main loop does NOT break\n",
    "            else:\n",
    "                print(\"Selection not available!\")\n",
    "        dashes()\n",
    "\n",
    "        # mark selected location with player symbol ('X' or 'O')\n",
    "        mark(current_player, location, board)\n",
    "        \n",
    "        # check for win\n",
    "        win = check_win(board)\n",
    "        \n",
    "        # check for tie\n",
    "        tie = check_tie(board)\n",
    "        \n",
    "\n",
    "    # Display game over message after a win or a tie\n",
    "    clear_output()\n",
    "    \n",
    "    # display header\n",
    "    dashes()\n",
    "    display(\"TIC TAC TOE\")\n",
    "    dashes()\n",
    "\n",
    "    # display game board (Necessary to draw the latest selection)\n",
    "    print()\n",
    "    draw(board)\n",
    "    print()\n",
    "\n",
    "    # display footer\n",
    "    dashes()\n",
    "    display(\"Game Over!\")\n",
    "    if(tie):\n",
    "        display(\"Tie!\")\n",
    "    elif(win):\n",
    "        display(\"Winner:\")\n",
    "        display(current_player)\n",
    "    dashes()\n",
    "  \n",
    "\n",
    "# Run the game\n",
    "main()\n"
   ]
  },
  {
   "cell_type": "code",
   "execution_count": 10,
   "metadata": {},
   "outputs": [
    {
     "ename": "SyntaxError",
     "evalue": "name 'board' is parameter and global (<ipython-input-10-3e251d80f874>, line 5)",
     "output_type": "error",
     "traceback": [
      "\u001b[1;36m  File \u001b[1;32m\"<ipython-input-10-3e251d80f874>\"\u001b[1;36m, line \u001b[1;32m5\u001b[0m\n\u001b[1;33m    global board\u001b[0m\n\u001b[1;37m    ^\u001b[0m\n\u001b[1;31mSyntaxError\u001b[0m\u001b[1;31m:\u001b[0m name 'board' is parameter and global\n"
     ]
    }
   ],
   "source": [
    "def mark(player, location, board):\n",
    "    #TODO\n",
    "    #get board\n",
    "    #reverses the list\n",
    "    global board\n",
    "    board = board[2]+board[1]+board[0]\n",
    "    #places mark in board\n",
    "    board[int(location) - 1] = player\n",
    "    #split appended list into chunks\n",
    "    #in leaps of 3 creates a list of lists with 3 numbers\n",
    "    board = [board[item:item+3] for item in range(0,len(board),3)] \n",
    "    board.reverse()\n",
    "    print(board)\n",
    "    return board\n",
    "\n",
    "print(board)\n",
    "mark('0', '6', board)\n",
    "print(board)"
   ]
  },
  {
   "cell_type": "code",
   "execution_count": 12,
   "metadata": {},
   "outputs": [
    {
     "name": "stdout",
     "output_type": "stream",
     "text": [
      "[['7', '8', 'X'], ['4', '5', '6'], ['1', '2', '3']]\n",
      "[['7', '8', 'X'], ['4', '5', '6'], ['1', 'X', '3']]\n"
     ]
    }
   ],
   "source": [
    "def mark(player, location, board):\n",
    "    #TODO\n",
    "    #get board\n",
    "    #reverses the list\n",
    "    board.reverse() \n",
    "    stringloc = int(location)\n",
    "    #places mark in board\n",
    "    board[(stringloc-1)//3][(stringloc- 1)%3]  = player\n",
    "    #split appended list into chunks\n",
    "    #in leaps of 3 creates a list of lists with 3 numbers\n",
    "    board.reverse()\n",
    "    return board\n",
    "\n",
    "#board = [['7', '8', '9'], ['4', '5', '6'], ['1', '2', '3']]\n",
    "print(board)\n",
    "mark('X', '2', board)\n",
    "print(board)"
   ]
  },
  {
   "cell_type": "code",
   "execution_count": 9,
   "metadata": {},
   "outputs": [
    {
     "name": "stdout",
     "output_type": "stream",
     "text": [
      " 7 | 8 | 9 \n",
      "----------\n",
      " 4 | 5 | 6 \n",
      "----------\n",
      " 1 | 2 | 3 \n"
     ]
    }
   ],
   "source": [
    "from IPython.display import clear_output #to clear the output (specific to Jupyter notebooks and ipython)\n",
    "from random import randint\n",
    "\n",
    "def draw(board):\n",
    "    \"\"\"\n",
    "    Draw the `board` table.\n",
    "    \n",
    "    The board reflects the current state of the game, a number indicates an available location.\n",
    "      \n",
    "    args:\n",
    "        board: 3x3 table (list of lists) containing the current state of the game\n",
    "        \n",
    "    returns:\n",
    "        None\n",
    "        \n",
    "    examples:\n",
    "        At the beginning of the game: board = [['7', '8', '9'], ['4', '5', '6'], ['1', '2', '3']]\n",
    "        The printout should look like:\n",
    "\n",
    "         7 | 8 | 9 \n",
    "        -----------\n",
    "         4 | 5 | 6 \n",
    "        -----------\n",
    "         1 | 2 | 3 \n",
    "\n",
    "         After a few marks: board = [['7', '8', 'X'], ['O', 'O', '6'], ['1', 'X', '3']]\n",
    "         The printout should look like:\n",
    "         7 | 8 | X \n",
    "        -----------\n",
    "         O | O | 6 \n",
    "        -----------\n",
    "         1 | X | 3 \n",
    "    \"\"\"\n",
    "    \n",
    "    for idx,row in enumerate(board):\n",
    "        #^3s is centering the string and leaving 1 character on each side useful instead of leaving spaces\n",
    "        print(\"{:^3s}|{:^3s}|{:^3s}\".format(row[0],row[1],row[2]))\n",
    "        if  idx != len(board) - 1:\n",
    "            print('-----------')\n",
    "board = [['7', '8', '9'], ['4', '5', '6'], ['1', '2', '3']]\n",
    "draw(board)"
   ]
  },
  {
   "cell_type": "code",
   "execution_count": null,
   "metadata": {
    "collapsed": true
   },
   "outputs": [],
   "source": []
  }
 ],
 "metadata": {
  "kernelspec": {
   "display_name": "Python 3",
   "language": "python",
   "name": "python3"
  },
  "language_info": {
   "codemirror_mode": {
    "name": "ipython",
    "version": 3
   },
   "file_extension": ".py",
   "mimetype": "text/x-python",
   "name": "python",
   "nbconvert_exporter": "python",
   "pygments_lexer": "ipython3",
   "version": "3.6.2"
  }
 },
 "nbformat": 4,
 "nbformat_minor": 2
}
