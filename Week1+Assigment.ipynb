{
 "cells": [
  {
   "cell_type": "markdown",
   "metadata": {},
   "source": [
    "## Resources\n",
    "### The string method format\n",
    "https://www.python-course.eu/python3_formatted_output.php"
   ]
  },
  {
   "cell_type": "code",
   "execution_count": 24,
   "metadata": {},
   "outputs": [
    {
     "name": "stdout",
     "output_type": "stream",
     "text": [
      " 7  |  8  |  9 \n",
      "-------------\n",
      " 4  |  5  |  6 \n",
      "-------------\n",
      " 1  |  2  |  3 \n"
     ]
    }
   ],
   "source": [
    "from IPython.display import clear_output #to clear the output (specific to Jupyter notebooks and ipython)\n",
    "from random import randint\n",
    "\n",
    "def draw(board):\n",
    "    \"\"\"\n",
    "    Draw the `board` table.\n",
    "    \n",
    "    The board reflects the current state of the game, a number indicates an available location.\n",
    "      \n",
    "    args:\n",
    "        board: 3x3 table (list of lists) containing the current state of the game\n",
    "        \n",
    "    returns:\n",
    "        None\n",
    "        \n",
    "    examples:\n",
    "        At the beginning of the game: board = [['7', '8', '9'], ['4', '5', '6'], ['1', '2', '3']]\n",
    "        The printout should look like:\n",
    "\n",
    "         7 | 8 | 9 \n",
    "        -----------\n",
    "         4 | 5 | 6 \n",
    "        -----------\n",
    "         1 | 2 | 3 \n",
    "\n",
    "         After a few marks: board = [['7', '8', 'X'], ['O', 'O', '6'], ['1', 'X', '3']]\n",
    "         The printout should look like:\n",
    "         7 | 8 | X \n",
    "        -----------\n",
    "         O | O | 6 \n",
    "        -----------\n",
    "         1 | X | 3 \n",
    "    \"\"\"\n",
    "    \n",
    "    for idx,row in enumerate(board):\n",
    "        #^3s is centering the string and leaving 1 character on each side useful instead of leaving spaces\n",
    "        print(\"{:^3s}|{:^3s}|{:^3s}\".format(row[0],row[1],row[2]))\n",
    "        if  idx != len(board) - 1:\n",
    "            print('-----------')\n",
    "\n",
    "board = [['7', '8', '9'], ['4', '5', '6'], ['1', '2', '3']]\n",
    "draw(board)"
   ]
  },
  {
   "cell_type": "code",
   "execution_count": 14,
   "metadata": {},
   "outputs": [
    {
     "name": "stdout",
     "output_type": "stream",
     "text": [
      "['4', '5', '6']\n",
      "3\n"
     ]
    }
   ],
   "source": [
    "board = [['7', '8', '9'], ['4', '5', '6'], ['1', '2', '3']]\n",
    "print(board[1])\n",
    "print(len(board))"
   ]
  },
  {
   "cell_type": "code",
   "execution_count": 129,
   "metadata": {},
   "outputs": [
    {
     "name": "stdout",
     "output_type": "stream",
     "text": [
      "['1', '2', '3', '4', '5', '6', '7', '8', '9']\n",
      "6\n"
     ]
    },
    {
     "data": {
      "text/plain": [
       "False"
      ]
     },
     "execution_count": 129,
     "metadata": {},
     "output_type": "execute_result"
    }
   ],
   "source": [
    "def available(location, board):\n",
    "    \"\"\"\n",
    "    Check the availability of a `location` on the current `board`\n",
    "    \n",
    "    An available location on the board contains a number between 1 and 9 stored as a string.\n",
    "    If the location contains 'X' or 'O', the location is not available and the function should return False;\n",
    "    otherwise, the function should return True indicating the location is available\n",
    "    \n",
    "    args:\n",
    "        location: a number between 1 and 9 stored as a string\n",
    "        board: 3x3 table (list of lists) containing the current state of the game\n",
    "    \n",
    "    returns:\n",
    "        True if the location is available. False if the location is not available\n",
    "        \n",
    "    examples:\n",
    "        At the beginning of the game: board = [['7', '8', '9'], ['4', '5', '6'], ['1', '2', '3']]\n",
    "        The printout should look like:\n",
    "\n",
    "         7 | 8 | 9 \n",
    "        -----------\n",
    "         4 | 5 | 6 \n",
    "        -----------\n",
    "         1 | 2 | 3 \n",
    "         \n",
    "         available(\"1\", board) --> returns True\n",
    "         available(\"9\", board) --> returns True\n",
    "\n",
    "\n",
    "         After a few marks: board = [['7', '8', 'X'], ['O', 'O', '6'], ['1', 'X', '3']]\n",
    "         The printout should look like:\n",
    "         7 | 8 | X \n",
    "        -----------\n",
    "         O | O | 6 \n",
    "        -----------\n",
    "         1 | X | 3 \n",
    "        \n",
    "         available(\"1\", board) --> returns True, because there is a number\n",
    "         available(\"5\", board) --> returns False, because there is 'O'\n",
    "         available(\"9\", board) --> returns False, because there is 'X'\n",
    "    \"\"\"\n",
    "   \n",
    "    #reverses board to get ids\n",
    "    newboard = board.copy()\n",
    "    newboard.reverse()\n",
    "    appendedlist = []\n",
    "    for idx,row in enumerate(newboard):\n",
    "        appendedlist = appendedlist + row\n",
    "    print(appendedlist)\n",
    "    print(appendedlist[int(location) - 1])\n",
    "    return appendedlist[int(location) - 1] in ['x','0']\n",
    "available(6, board)"
   ]
  },
  {
   "cell_type": "code",
   "execution_count": 130,
   "metadata": {
    "collapsed": true
   },
   "outputs": [],
   "source": [
    "def reverselist(board):\n",
    "    newboard = board.copy()\n",
    "    newboard.reverse()\n",
    "    appendedlist = []\n",
    "    for idx,row in enumerate(newboard):\n",
    "        appendedlist = appendedlist + row\n",
    "    return appendedlist\n",
    "    "
   ]
  },
  {
   "cell_type": "code",
   "execution_count": 131,
   "metadata": {},
   "outputs": [
    {
     "name": "stdout",
     "output_type": "stream",
     "text": [
      "['1', '2', '3', '4', '5', '6', '7', '8', '9']\n"
     ]
    }
   ],
   "source": [
    "appended = reverselist(board)\n",
    "print(appended)"
   ]
  },
  {
   "cell_type": "code",
   "execution_count": 132,
   "metadata": {},
   "outputs": [
    {
     "name": "stdout",
     "output_type": "stream",
     "text": [
      "Initial board\n",
      "[['7', '8', '9'], ['4', '5', '6'], ['1', '2', '3']]\n",
      "['1', '2', '3', '4', '5', '6', '7', '8', '9']\n",
      "['1', '2', '3', '4', '0', '6', '7', '8', '9']\n",
      "['1', '2', '3', '4', '0', '6', '7', '8', '9']\n",
      "[['1', '2', '3'], ['4', '0', '6'], ['7', '8', '9']]\n",
      "[['7', '8', '9'], ['4', '0', '6'], ['1', '2', '3']]\n",
      "[['7', '8', '9'], ['4', '5', '6'], ['1', '2', '3']]\n"
     ]
    }
   ],
   "source": [
    "def mark(player, location, board):\n",
    "    \"\"\"\n",
    "    Mark `location` on the `board` with the `player` symbol.\n",
    "    \n",
    "    Should replace the `location` number on the board with `X` or `O`\n",
    "    \n",
    "    args:\n",
    "        player: player's symbol, either 'X' or 'O'\n",
    "        location: a number between 1 and 9 stored as a string\n",
    "        board: 3x3 table (list of lists) containing the current state of the game\n",
    "    \n",
    "    returns:\n",
    "        None\n",
    "        \n",
    "    examples:\n",
    "        At the beginning of the game: board = [['7', '8', '9'], ['4', '5', '6'], ['1', '2', '3']]\n",
    "        The printout should look like:\n",
    "\n",
    "         7 | 8 | 9 \n",
    "        -----------\n",
    "         4 | 5 | 6 \n",
    "        -----------\n",
    "         1 | 2 | 3 \n",
    "         \n",
    "         After mark('O', '4', board)\n",
    "         The printout should look like:\n",
    "         7 | 8 | 9 \n",
    "        -----------\n",
    "         O | 5 | 6 \n",
    "        -----------\n",
    "         1 | 2 | 3 \n",
    "        \n",
    "         After mark('X', '3', board)\n",
    "         The printout should look like:\n",
    "         7 | 8 | 9 \n",
    "        -----------\n",
    "         O | 5 | 6 \n",
    "        -----------\n",
    "         1 | 2 | X \n",
    "         \n",
    "         After mark('O', '9', board)\n",
    "         The printout should look like:\n",
    "         7 | 8 | O \n",
    "        -----------\n",
    "         O | 5 | 6 \n",
    "        -----------\n",
    "         1 | 2 | X \n",
    "    \"\"\"\n",
    "    #TODO\n",
    "    print('Initial board')\n",
    "    print(board)\n",
    "    #get board\n",
    "    appendedlist = reverselist(board)\n",
    "    print(appendedlist) \n",
    "    appendedlist[int(location) - 1] = player\n",
    "    print(appendedlist)\n",
    "    print(appendedlist)\n",
    "    #split appended list into chunks\n",
    "    board = [appendedlist[item:item+3] for item in range(0,len(appendedlist),3)] \n",
    "    print(board)\n",
    "    board.reverse()\n",
    "    print(board)\n",
    "    return board\n",
    "    pass\n",
    "mark('0', '5', board)\n",
    "print(board)"
   ]
  },
  {
   "cell_type": "code",
   "execution_count": 133,
   "metadata": {},
   "outputs": [
    {
     "name": "stdout",
     "output_type": "stream",
     "text": [
      "[['7', '8', '9'], ['4', '5', '6'], ['1', '2', '3']]\n"
     ]
    }
   ],
   "source": [
    "print(board)"
   ]
  },
  {
   "cell_type": "code",
   "execution_count": 101,
   "metadata": {
    "collapsed": true
   },
   "outputs": [],
   "source": [
    "def check_win(board):\n",
    "    \"\"\"\n",
    "    Check if there is a winner.\n",
    "    \n",
    "    A win happens if the either of the players was able to place 3 symbols ('X' or 'O') in:\n",
    "    a horizontal, vertical, diagonal, or anti-diagonal placement.\n",
    "    \n",
    "    args:\n",
    "        board: 3x3 table (list of lists) containing the current state of the game\n",
    "        \n",
    "    returns:\n",
    "        True if there is a winner. False if there is no winner yet\n",
    "        \n",
    "    examples:\n",
    "        Horizontal win:\n",
    "        ================\n",
    "\n",
    "         7 | O | 9 \n",
    "        -----------\n",
    "         X | X | X \n",
    "        -----------\n",
    "         1 | O | 3 \n",
    "        check_win(board) --> returns True, because 'X' won\n",
    "        \n",
    "\n",
    "         O | O | O \n",
    "        -----------\n",
    "         X | X | 6 \n",
    "        -----------\n",
    "         X | O | 3 \n",
    "        check_win(board) --> returns True, because 'O' won\n",
    "    \n",
    "    \n",
    "        Vertical win:\n",
    "        ================\n",
    "\n",
    "         7 | 8 | X \n",
    "        -----------\n",
    "         X | O | X \n",
    "        -----------\n",
    "         O | O | X \n",
    "        check_win(board) --> returns True, because 'X' won\n",
    "         \n",
    "\n",
    "         X | O | O \n",
    "        -----------\n",
    "         4 | O | 6 \n",
    "        -----------\n",
    "         X | O | X \n",
    "        check_win(board) --> returns True, because 'O' won\n",
    "        \n",
    "        \n",
    "        Diagonal win:\n",
    "        ================\n",
    "\n",
    "         X | 8 | O \n",
    "        -----------\n",
    "         4 | X | X \n",
    "        -----------\n",
    "         O | O | X \n",
    "        check_win(board) --> returns True, because 'X' won\n",
    "         \n",
    "\n",
    "         O | X | O \n",
    "        -----------\n",
    "         X | O | X \n",
    "        -----------\n",
    "         1 | 2 | O \n",
    "        check_win(board) --> returns True, because 'O' won\n",
    "        \n",
    "        \n",
    "        Anti-Diagonal win:\n",
    "        ================\n",
    "\n",
    "         O | 8 | X \n",
    "        -----------\n",
    "         4 | X | X \n",
    "        -----------\n",
    "         X | O | O \n",
    "        check_win(board) --> returns True, because 'X' won\n",
    "         \n",
    "\n",
    "         7 | 8 | O \n",
    "        -----------\n",
    "         X | O | X \n",
    "        -----------\n",
    "         O | O | X \n",
    "        check_win(board) --> returns True, because 'O' won\n",
    "        \n",
    "        \n",
    "        No winners yet:\n",
    "        ================\n",
    "\n",
    "         O | 8 | 9 \n",
    "        -----------\n",
    "         4 | X | X \n",
    "        -----------\n",
    "         X | O | O \n",
    "        check_win(board) --> returns False\n",
    "    \"\"\"\n",
    "    #TODO\n",
    "    #check all horizontals\n",
    "    for idx,row in enumerate(board):\n",
    "        if row[1:] == row[:-1]:\n",
    "            print('Its a match')\n",
    "    \n",
    "    #compare verticals\n",
    "    for idx in range(len(board[1])):\n",
    "        if board[0][idx] == board[1][idx] == board[2][idx]:\n",
    "            print('Its a match')\n",
    "            \n",
    "    #check all diagonals\n",
    "    if board[0][0] == board[1][1] == board[2][2]:\n",
    "        print('It is a match')\n",
    "    if board[0][2] == board[1][1] == board[2][0]:\n",
    "        print('It is a match')\n",
    "\n",
    "    #check all verticals    \n",
    "    pass\n"
   ]
  },
  {
   "cell_type": "code",
   "execution_count": 102,
   "metadata": {},
   "outputs": [
    {
     "name": "stdout",
     "output_type": "stream",
     "text": [
      "[['7', '8', '9'], ['0', '5', '6'], ['0', '0', '0']]\n",
      "[['9', '8', '7'], ['6', '5', '4'], ['0', '0', '0']]\n",
      "Its a match\n"
     ]
    }
   ],
   "source": [
    "mark('0', '6', board)\n",
    "print(board)\n",
    "check_win(board)"
   ]
  },
  {
   "cell_type": "code",
   "execution_count": null,
   "metadata": {
    "collapsed": true
   },
   "outputs": [],
   "source": [
    "def check_tie(board):\n",
    "    \"\"\"\n",
    "    Check the game for a tie, no available locations and no winners.\n",
    "    \n",
    "    args:\n",
    "        board: 3x3 table (list of lists) containing the current state of the game\n",
    "        \n",
    "    returns:\n",
    "        True if there is a tie. False the board is not full yet or there is a winner\n",
    "        \n",
    "    examples:\n",
    "\n",
    "         O | O | X \n",
    "        -----------\n",
    "         X | X | O \n",
    "        -----------\n",
    "         O | O | X \n",
    "         \n",
    "        check_tie(board) --> returns True\n",
    "         \n",
    "\n",
    "\n",
    "         O | O | 9 \n",
    "        -----------\n",
    "         X | X | 6 \n",
    "        -----------\n",
    "         X | O | 3 \n",
    "         \n",
    "        check_tie(board) --> returns False, because there are still available location\n",
    "    \"\"\"\n",
    "    #TODO\n",
    "    pass"
   ]
  }
 ],
 "metadata": {
  "kernelspec": {
   "display_name": "Python 3",
   "language": "python",
   "name": "python3"
  },
  "language_info": {
   "codemirror_mode": {
    "name": "ipython",
    "version": 3
   },
   "file_extension": ".py",
   "mimetype": "text/x-python",
   "name": "python",
   "nbconvert_exporter": "python",
   "pygments_lexer": "ipython3",
   "version": "3.6.2"
  }
 },
 "nbformat": 4,
 "nbformat_minor": 2
}
