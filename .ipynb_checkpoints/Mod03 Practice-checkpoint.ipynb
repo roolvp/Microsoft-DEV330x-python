{
 "cells": [
  {
   "cell_type": "code",
   "execution_count": 2,
   "metadata": {},
   "outputs": [
    {
     "ename": "SyntaxError",
     "evalue": "Missing parentheses in call to 'print' (<ipython-input-2-ea7a2398547b>, line 3)",
     "output_type": "error",
     "traceback": [
      "\u001b[1;36m  File \u001b[1;32m\"<ipython-input-2-ea7a2398547b>\"\u001b[1;36m, line \u001b[1;32m3\u001b[0m\n\u001b[1;33m    print hello\u001b[0m\n\u001b[1;37m              ^\u001b[0m\n\u001b[1;31mSyntaxError\u001b[0m\u001b[1;31m:\u001b[0m Missing parentheses in call to 'print'\n"
     ]
    }
   ],
   "source": [
    "# [ ] Write an expression to raise a `SyntaxError` exception\n",
    "\n",
    "print hello"
   ]
  },
  {
   "cell_type": "code",
   "execution_count": 4,
   "metadata": {},
   "outputs": [
    {
     "ename": "TypeError",
     "evalue": "unsupported operand type(s) for +: 'int' and 'str'",
     "output_type": "error",
     "traceback": [
      "\u001b[1;31m---------------------------------------------------------------------------\u001b[0m",
      "\u001b[1;31mTypeError\u001b[0m                                 Traceback (most recent call last)",
      "\u001b[1;32m<ipython-input-4-b3193265a4e4>\u001b[0m in \u001b[0;36m<module>\u001b[1;34m()\u001b[0m\n\u001b[0;32m      1\u001b[0m \u001b[1;31m# [ ] Write an expression to raise a `TypeError` exception\u001b[0m\u001b[1;33m\u001b[0m\u001b[1;33m\u001b[0m\u001b[0m\n\u001b[1;32m----> 2\u001b[1;33m \u001b[1;36m1\u001b[0m\u001b[1;33m+\u001b[0m\u001b[1;34m\"hello\"\u001b[0m\u001b[1;33m\u001b[0m\u001b[0m\n\u001b[0m",
      "\u001b[1;31mTypeError\u001b[0m: unsupported operand type(s) for +: 'int' and 'str'"
     ]
    }
   ],
   "source": [
    "# [ ] Write an expression to raise a `TypeError` exception\n",
    "1+\"hello\""
   ]
  },
  {
   "cell_type": "code",
   "execution_count": 8,
   "metadata": {},
   "outputs": [
    {
     "name": "stdout",
     "output_type": "stream",
     "text": [
      "Enter a number: 2\n",
      "8 / 2.00 = 4.00\n",
      "85.4 / 2.00 = 42.70\n",
      "Can't divide [55, 4]\n",
      "Can't divide word\n",
      "Can't divide 59\n",
      "Can't divide {2: 43.5}\n",
      "The loop is out of range\n",
      "Done!\n"
     ]
    }
   ],
   "source": [
    "## [ ] The following program divides the elements of `lst` by a float number `x` specified by the user\n",
    "# Use exception handling to correct for the ALL generated exceptions\n",
    "# When you handle all exceptions correctly, you should see the word \"Done!\" in the program output\n",
    "\n",
    "# HINT: You might need to use 2 `try..except` statements\n",
    "\n",
    "# Test cases:\n",
    "# x = 5\n",
    "# x = 6.3\n",
    "# x = \"number\"\n",
    "# x = 0\n",
    "\n",
    "lst = [8, 85.4, [55, 4], 'word', (59,), {2:43.5}]\n",
    "x = input(\"Enter a number: \")\n",
    "x = float(x)\n",
    "\n",
    "for i in range(7):\n",
    "    try:\n",
    "        print(\"{} / {:.2f} = {:.2f}\".format(lst[i], x, lst[i] / x))\n",
    "    except TypeError:\n",
    "        print(\"Can't divide %s\"%(lst[i]))\n",
    "    except IndexError:\n",
    "        print(\"The loop is out of range\")\n",
    "print(\"Done!\")    \n"
   ]
  },
  {
   "cell_type": "code",
   "execution_count": 17,
   "metadata": {},
   "outputs": [
    {
     "name": "stdout",
     "output_type": "stream",
     "text": [
      "Enter file name: test.txt\n",
      "asdfadf\n"
     ]
    }
   ],
   "source": [
    "# [ ] The following program asks the user for a file name.\n",
    "# The file is then opened, the first line printed out, then closed.\n",
    "# Use exception handling to show the user a message confirming the file process was completed successfully\n",
    "# your exception handling should also deal with the cases when the file does not exist\n",
    "# test cases:\n",
    "# fname = text_file.txt (should display: File process was completed successfully)\n",
    "# fname = nofilehere.txt (should display: nofilehere.txt was not found)\n",
    "\n",
    "import os\n",
    "\n",
    "# ask user for a file name\n",
    "fname = input(\"Enter file name: \")\n",
    "\n",
    "# the file should be located in `parent_dir`\n",
    "fname = os.path.join(\"parent_dir\", fname)\n",
    "\n",
    "# opening text_file.txt for reading\n",
    "try:\n",
    "    with open(fname, 'r') as f:\n",
    "        print(f.readline())\n",
    "except FileNotFoundError:\n",
    "    print(\"The file %s doesn't exist\"%(fname))"
   ]
  },
  {
   "cell_type": "code",
   "execution_count": null,
   "metadata": {
    "collapsed": true
   },
   "outputs": [],
   "source": [
    "# [ ] The following program tries to read from a file opened for writing.\n",
    "# The program will terminate before closing the file, and the file resources will not be released.\n",
    "# Use exception handling with a `finally` to make sure the file is closed\n",
    "\n",
    "# Open a text file for writing\n",
    "f = open(\"parent_dir/text_file_2.txt\", 'w')\n",
    "\n",
    "# trying to read from a file open for writing (will raise an exception)\n",
    "print(f.readline())\n",
    "\n",
    "# closing the file (will not be reached if an exception was raised)\n",
    "f.close()\n",
    "print(\"File closed\")"
   ]
  },
  {
   "cell_type": "code",
   "execution_count": 18,
   "metadata": {},
   "outputs": [
    {
     "name": "stdout",
     "output_type": "stream",
     "text": [
      "Error reading file\n",
      "File closed\n"
     ]
    }
   ],
   "source": [
    "# [ ] The following program tries to read from a file opened for writing.\n",
    "# The program will terminate before closing the file, and the file resources will not be released.\n",
    "# Use exception handling with a `finally` to make sure the file is closed\n",
    "\n",
    "# Open a text file for writing\n",
    "f = open(\"parent_dir/text_file_2.txt\", 'w')\n",
    "\n",
    "# trying to read from a file open for writing (will raise an exception)\n",
    "try:\n",
    "    print(f.readline())\n",
    "except:\n",
    "    print(\"Error reading file\")\n",
    "# closing the file (will not be reached if an exception was raised)\n",
    "finally:\n",
    "    f.close()\n",
    "    print(\"File closed\")\n"
   ]
  },
  {
   "cell_type": "code",
   "execution_count": 24,
   "metadata": {},
   "outputs": [
    {
     "name": "stdout",
     "output_type": "stream",
     "text": [
      "Enter a value between 1 and 64. Good luck!22\n",
      "ouch\n"
     ]
    }
   ],
   "source": [
    "# [ ] Write a program to keep prompting the user for a number from a predefined numerical tuple `valid_nums`\n",
    "# Your program should raise an exception with an appropriate message if the input is not valid\n",
    "\n",
    "valid_nums = (1, 2, 8, 16, 32, 64)\n",
    "userinput = int(input('Enter a value between 1 and 64. Good luck!'))\n",
    "try:\n",
    "    if userinput not in valid_nums:\n",
    "        raise NameError('Your were not lucky')\n",
    "    print('lucky you!')\n",
    "except:\n",
    "    print('ouch')\n",
    "\n"
   ]
  },
  {
   "cell_type": "code",
   "execution_count": 25,
   "metadata": {},
   "outputs": [
    {
     "name": "stdout",
     "output_type": "stream",
     "text": [
      "Changing working dir to parent_dir\n",
      "Current working directory: C:\\GITHUB\\Microsoft-DEV330x-python--Dictionaries\\parent_dir\n",
      "Removing \"files_exercises\"\n",
      "Making \"files_exercises\"\n",
      "Changing working directory to \"files_exercises\"\n",
      "Current working directory: C:\\GITHUB\\Microsoft-DEV330x-python--Dictionaries\\parent_dir\\files_exercises\n",
      "Creating 100 text files\n",
      "Creating 5 directories\n",
      "Environment setup completed!\n"
     ]
    }
   ],
   "source": [
    "# Do not modify or add anything to this code segment.\n",
    "# This code segment must be run before attempting any of the tasks in this lesson.\n",
    "# It prepares the directories and files necessary to complete the tasks.\n",
    "\n",
    "import os, random, shutil\n",
    "\n",
    "# Navigate to `parent_dir` directory (if not already in it)\n",
    "current_path = os.getcwd()\n",
    "if (\"parent_dir\" in current_path):\n",
    "    nb_path = current_path.split(\"parent_dir\")[0]\n",
    "else:\n",
    "    nb_path = current_path\n",
    "print(\"Changing working dir to parent_dir\")\n",
    "os.chdir(os.path.join(nb_path,'parent_dir'))\n",
    "print(\"Current working directory:\", os.getcwd())\n",
    "\n",
    "\n",
    "# Remove the `files_exercises` directory (if it exists)\n",
    "if('files_exercises' in os.listdir()):\n",
    "    print('Removing \"files_exercises\"')\n",
    "    shutil.rmtree('files_exercises')\n",
    "    \n",
    "# Create a new directory called `files_exercises`\n",
    "print('Making \"files_exercises\"')\n",
    "os.mkdir('files_exercises')\n",
    "\n",
    "# Change the working directory to `files_exercises`\n",
    "print('Changing working directory to \"files_exercises\"')\n",
    "os.chdir('files_exercises')\n",
    "\n",
    "# Display the current working directory to verify you are in the correct location\n",
    "print(\"Current working directory:\", os.getcwd())\n",
    "\n",
    "# Create 100 text files, the first line of each file is a random number in the range [1000, 9999]\n",
    "print(\"Creating 100 text files\")\n",
    "random.seed(25000) # to get the same random numbers every time the setup runs\n",
    "for i in range(100):\n",
    "    file_name = str(i) + \".txt\"\n",
    "    f = open(file_name, 'w')\n",
    "    f.write(str(random.randint(1000, 9999)))\n",
    "    f.close()\n",
    "\n",
    "# Create 5 directories\n",
    "print(\"Creating 5 directories\")\n",
    "for i in range(1, 6):\n",
    "    os.mkdir(\"dir_\"+str(i))\n",
    "\n",
    "print(\"Environment setup completed!\")"
   ]
  },
  {
   "cell_type": "code",
   "execution_count": 28,
   "metadata": {},
   "outputs": [
    {
     "name": "stdout",
     "output_type": "stream",
     "text": [
      "C:\\GITHUB\\Microsoft-DEV330x-python--Dictionaries\\parent_dir\\files_exercises\n",
      "['0.txt', '1.txt', '10.txt', '11.txt', '12.txt', '13.txt', '14.txt', '15.txt', '16.txt', '17.txt', '18.txt', '19.txt', '2.txt', '20.txt', '21.txt', '22.txt', '23.txt', '24.txt', '25.txt', '26.txt', '27.txt', '28.txt', '29.txt', '3.txt', '30.txt', '31.txt', '32.txt', '33.txt', '34.txt', '35.txt', '36.txt', '37.txt', '38.txt', '39.txt', '4.txt', '40.txt', '41.txt', '42.txt', '43.txt', '44.txt', '45.txt', '46.txt', '47.txt', '48.txt', '49.txt', '5.txt', '50.txt', '51.txt', '52.txt', '53.txt', '54.txt', '55.txt', '56.txt', '57.txt', '58.txt', '59.txt', '6.txt', '60.txt', '61.txt', '62.txt', '63.txt', '64.txt', '65.txt', '66.txt', '67.txt', '68.txt', '69.txt', '7.txt', '70.txt', '71.txt', '72.txt', '73.txt', '74.txt', '75.txt', '76.txt', '77.txt', '78.txt', '79.txt', '8.txt', '80.txt', '81.txt', '82.txt', '83.txt', '84.txt', '85.txt', '86.txt', '87.txt', '88.txt', '89.txt', '9.txt', '90.txt', '91.txt', '92.txt', '93.txt', '94.txt', '95.txt', '96.txt', '97.txt', '98.txt', '99.txt', 'dir_1', 'dir_2', 'dir_3', 'dir_4', 'dir_5']\n"
     ]
    }
   ],
   "source": [
    "# [ ] Complete the function `delete_files` so the program deletes all the files in the `files_exercises` directory\n",
    "# Make sure the to run the environment setup code before running your own program.\n",
    "print(os.getcwd())\n",
    "print(os.listdir())"
   ]
  },
  {
   "cell_type": "code",
   "execution_count": 32,
   "metadata": {},
   "outputs": [
    {
     "name": "stdout",
     "output_type": "stream",
     "text": [
      "removing file 0.txt\n",
      "removing file 1.txt\n",
      "removing file 10.txt\n",
      "removing file 11.txt\n",
      "removing file 12.txt\n",
      "removing file 13.txt\n",
      "removing file 14.txt\n",
      "removing file 15.txt\n",
      "removing file 16.txt\n",
      "removing file 17.txt\n",
      "removing file 18.txt\n",
      "removing file 19.txt\n",
      "removing file 2.txt\n",
      "removing file 20.txt\n",
      "removing file 21.txt\n",
      "removing file 22.txt\n",
      "removing file 23.txt\n",
      "removing file 24.txt\n",
      "removing file 25.txt\n",
      "removing file 26.txt\n",
      "removing file 27.txt\n",
      "removing file 28.txt\n",
      "removing file 29.txt\n",
      "removing file 3.txt\n",
      "removing file 30.txt\n",
      "removing file 31.txt\n",
      "removing file 32.txt\n",
      "removing file 33.txt\n",
      "removing file 34.txt\n",
      "removing file 35.txt\n",
      "removing file 36.txt\n",
      "removing file 37.txt\n",
      "removing file 38.txt\n",
      "removing file 39.txt\n",
      "removing file 4.txt\n",
      "removing file 40.txt\n",
      "removing file 41.txt\n",
      "removing file 42.txt\n",
      "removing file 43.txt\n",
      "removing file 44.txt\n",
      "removing file 45.txt\n",
      "removing file 46.txt\n",
      "removing file 47.txt\n",
      "removing file 48.txt\n",
      "removing file 49.txt\n",
      "removing file 5.txt\n",
      "removing file 50.txt\n",
      "removing file 51.txt\n",
      "removing file 52.txt\n",
      "removing file 53.txt\n",
      "removing file 54.txt\n",
      "removing file 55.txt\n",
      "removing file 56.txt\n",
      "removing file 57.txt\n",
      "removing file 58.txt\n",
      "removing file 59.txt\n",
      "removing file 6.txt\n",
      "removing file 60.txt\n",
      "removing file 61.txt\n",
      "removing file 62.txt\n",
      "removing file 63.txt\n",
      "removing file 64.txt\n",
      "removing file 65.txt\n",
      "removing file 66.txt\n",
      "removing file 67.txt\n",
      "removing file 68.txt\n",
      "removing file 69.txt\n",
      "removing file 7.txt\n",
      "removing file 70.txt\n",
      "removing file 71.txt\n",
      "removing file 72.txt\n",
      "removing file 73.txt\n",
      "removing file 74.txt\n",
      "removing file 75.txt\n",
      "removing file 76.txt\n",
      "removing file 77.txt\n",
      "removing file 78.txt\n",
      "removing file 79.txt\n",
      "removing file 8.txt\n",
      "removing file 80.txt\n",
      "removing file 81.txt\n",
      "removing file 82.txt\n",
      "removing file 83.txt\n",
      "removing file 84.txt\n",
      "removing file 85.txt\n",
      "removing file 86.txt\n",
      "removing file 87.txt\n",
      "removing file 88.txt\n",
      "removing file 89.txt\n",
      "removing file 9.txt\n",
      "removing file 90.txt\n",
      "removing file 91.txt\n",
      "removing file 92.txt\n",
      "removing file 93.txt\n",
      "removing file 94.txt\n",
      "removing file 95.txt\n",
      "removing file 96.txt\n",
      "removing file 97.txt\n",
      "removing file 98.txt\n",
      "removing file 99.txt\n",
      "error removing file\n",
      "error removing file\n",
      "error removing file\n",
      "error removing file\n",
      "error removing file\n"
     ]
    }
   ],
   "source": [
    "def delete_files():\n",
    "    for name in os.listdir():\n",
    "        try:\n",
    "            os.remove(name)\n",
    "            print('removing file %s'%(name))\n",
    "        except:\n",
    "            print(\"error removing file\")\n",
    "            \n",
    "delete_files()"
   ]
  },
  {
   "cell_type": "code",
   "execution_count": null,
   "metadata": {
    "collapsed": true
   },
   "outputs": [],
   "source": []
  }
 ],
 "metadata": {
  "kernelspec": {
   "display_name": "Python 3",
   "language": "python",
   "name": "python3"
  },
  "language_info": {
   "codemirror_mode": {
    "name": "ipython",
    "version": 3
   },
   "file_extension": ".py",
   "mimetype": "text/x-python",
   "name": "python",
   "nbconvert_exporter": "python",
   "pygments_lexer": "ipython3",
   "version": "3.5.4"
  }
 },
 "nbformat": 4,
 "nbformat_minor": 2
}
