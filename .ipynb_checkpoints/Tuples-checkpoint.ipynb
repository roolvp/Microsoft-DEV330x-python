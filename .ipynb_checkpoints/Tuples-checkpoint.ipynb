{
 "cells": [
  {
   "cell_type": "markdown",
   "metadata": {},
   "source": [
    "# Tuples\n",
    "\n",
    "A tuple is a data structure similar to lists, it can contain any data type inside. The main difference with lists is that tuples are unmutable, this is that the order of its elements is not changeable and no new items can be appended. \n",
    "\n",
    "### Equal tuples contain the same information\n",
    "T1 == T2\n",
    "### Identical tuples if the tuples are the same object\n",
    "T1 is T2"
   ]
  },
  {
   "cell_type": "code",
   "execution_count": null,
   "metadata": {
    "collapsed": true
   },
   "outputs": [],
   "source": [
    "# Create a tuple that consists of the following variables\n",
    "x = 5\n",
    "l = [4.4, 5.3]\n",
    "s = \"something\"\n",
    "t = (9, 0)\n",
    "\n",
    "tuplex = (x,l,s,t)\n",
    "print(tuplex)"
   ]
  },
  {
   "cell_type": "code",
   "execution_count": null,
   "metadata": {
    "collapsed": true
   },
   "outputs": [],
   "source": [
    "# [ ] Change the third element of T to [59, 20.4]\n",
    "T = ([43.6, 34], [49, 59], [50, 34.6], [39, 49])\n",
    "T[2][0] = 59\n",
    "T[2][1] = 34.6\n",
    "print(T)"
   ]
  },
  {
   "cell_type": "code",
   "execution_count": 2,
   "metadata": {},
   "outputs": [
    {
     "name": "stdout",
     "output_type": "stream",
     "text": [
      "(5, 4, 3, 9, 2, 12)\n"
     ]
    }
   ],
   "source": [
    "# [ ] Write a program to merge the content of T1 and T2 into one tuple T\n",
    "# Correct output should be T = (5, 4, 3, 9, 2, 12)\n",
    "# T = ((5, 4, 3), (9, 2, 12)) is an incorrect output\n",
    "\n",
    "# Hint: Use list to/from tuple conversion\n",
    "\n",
    "T1 = (5, 4, 3)\n",
    "T2 = (9, 2, 12)\n",
    "#The first method works\n",
    "T3 = T1 + T2\n",
    "print(T3)\n",
    "\n",
    "T = list(T1) + list(T2)\n",
    "T = tuple(T)\n"
   ]
  },
  {
   "cell_type": "markdown",
   "metadata": {},
   "source": [
    "### Slicing and unpacking "
   ]
  },
  {
   "cell_type": "code",
   "execution_count": null,
   "metadata": {
    "collapsed": true
   },
   "outputs": [],
   "source": [
    "# [ ] Write a program to split the content of T into T1 and T2\n",
    "# T1 = (5, 4, 3)\n",
    "# T2 = (9, 2, 12)\n",
    "\n",
    "T = (5, 4, 3, 9, 2, 12)\n",
    "\n",
    "T1 = T[:3]   # works like range\n",
    "T2 = T[3:]\n",
    "\n",
    "print(T1)\n",
    "print(T2)"
   ]
  },
  {
   "cell_type": "code",
   "execution_count": 3,
   "metadata": {},
   "outputs": [
    {
     "name": "stdout",
     "output_type": "stream",
     "text": [
      "After unpacking the tuple: (5, [3, 5.3], 'something', (9, 0))\n",
      "x = 5\n",
      "l = [3, 5.3]\n",
      "s = something\n",
      "t = (9, 0)\n"
     ]
    }
   ],
   "source": [
    "# [ ] Write an expression to unpack `T` into:\n",
    "# 1) x = 5\n",
    "# 2) l = [3, 5.3]\n",
    "# 3) s = 'something\n",
    "# 4) t = (9, 0)\n",
    "\n",
    "T = (5, [3, 5.3], 'something', (9, 0))\n",
    "\n",
    "#TODO: Your code goes here\n",
    "x = T[0]\n",
    "l = T[1]\n",
    "s= T[2]\n",
    "t = T[3]\n",
    "\n",
    "\n",
    "print(\"After unpacking the tuple:\", T)\n",
    "print(\"x =\", x)\n",
    "print(\"l =\", l)\n",
    "print(\"s =\", s)\n",
    "print(\"t =\", t)"
   ]
  },
  {
   "cell_type": "code",
   "execution_count": 20,
   "metadata": {},
   "outputs": [
    {
     "name": "stdout",
     "output_type": "stream",
     "text": [
      "Today's date is:  6/16/2018\n"
     ]
    }
   ],
   "source": [
    "# [ ] Complete the function `current_date` to return today's month, day, and year\n",
    "# Hint: Use an appropriate function from the datetime module\n",
    "from datetime import date\n",
    "def current_date():\n",
    "    pass\n",
    "    #TODO return month, day, year\n",
    "    tuplex = date.today().timetuple()\n",
    "    theyear = tuplex[0]\n",
    "    themonth = tuplex[1]\n",
    "    theday = tuplex[2]\n",
    "    return themonth,theday,theyear\n",
    "m, d, y = current_date()\n",
    "print(\"Today's date is: {:2d}/{:2d}/{:4d}\".format(m, d, y))"
   ]
  },
  {
   "cell_type": "code",
   "execution_count": 21,
   "metadata": {
    "collapsed": true
   },
   "outputs": [],
   "source": [
    " tuplex = date.today().timetuple()"
   ]
  },
  {
   "cell_type": "code",
   "execution_count": 22,
   "metadata": {},
   "outputs": [
    {
     "data": {
      "text/plain": [
       "(2018, 6, 16)"
      ]
     },
     "execution_count": 22,
     "metadata": {},
     "output_type": "execute_result"
    }
   ],
   "source": [
    "tuplex[0:3]"
   ]
  },
  {
   "cell_type": "code",
   "execution_count": 1,
   "metadata": {
    "collapsed": true
   },
   "outputs": [],
   "source": [
    "# [ ] Write a program to merge the content of T1 and T2 into one tuple T\n",
    "# Correct output should be T = (5, 4, 3, 9, 2, 12), \n",
    "# T = ((5, 4, 3), (9, 2, 12)) is an incorrect output\n",
    "\n",
    "# You should NOT use lists in your solution\n",
    "T1 = (5, 4, 3)\n",
    "T2 = (9, 2, 12)\n",
    "\n",
    "\n",
    "\n",
    "\n"
   ]
  },
  {
   "cell_type": "code",
   "execution_count": 4,
   "metadata": {},
   "outputs": [
    {
     "name": "stdout",
     "output_type": "stream",
     "text": [
      "insert a number to check69\n",
      "nope\n"
     ]
    }
   ],
   "source": [
    "#ram to prompt the user for a number, then test if the number is contained in T\n",
    "\n",
    "T = (23, 45, 93, 59, 35, 58, 19, 3)\n",
    "\n",
    "theuserinput = int(input('insert a number to check'))\n",
    "if theuserinput in T:\n",
    "    print(\"it's conainted\")\n",
    "else:\n",
    "    print(\"nope\")\n"
   ]
  },
  {
   "cell_type": "code",
   "execution_count": 5,
   "metadata": {},
   "outputs": [
    {
     "name": "stdout",
     "output_type": "stream",
     "text": [
      "93\n"
     ]
    }
   ],
   "source": [
    "# Write a function to return the largest element in a tuple T\n",
    "T = (23, 45, 93, 59, 35, 58, 19, 3)\n",
    "maxi = 0\n",
    "for item in T:\n",
    "    if item > maxi:\n",
    "        maxi = item\n",
    "print(maxi)\n",
    "        \n",
    "\n"
   ]
  },
  {
   "cell_type": "code",
   "execution_count": 12,
   "metadata": {},
   "outputs": [
    {
     "name": "stdout",
     "output_type": "stream",
     "text": [
      "41.875\n"
     ]
    }
   ],
   "source": [
    "# [ ] Write a program to compute the average of the elements in T\n",
    "\n",
    "T = (23, 45, 93, 59, 35, 58, 19, 3)\n",
    "max(T)\n",
    "print(sum(T)/len(T))\n"
   ]
  },
  {
   "cell_type": "code",
   "execution_count": null,
   "metadata": {
    "collapsed": true
   },
   "outputs": [],
   "source": []
  }
 ],
 "metadata": {
  "kernelspec": {
   "display_name": "Python 3",
   "language": "python",
   "name": "python3"
  },
  "language_info": {
   "codemirror_mode": {
    "name": "ipython",
    "version": 3
   },
   "file_extension": ".py",
   "mimetype": "text/x-python",
   "name": "python",
   "nbconvert_exporter": "python",
   "pygments_lexer": "ipython3",
   "version": "3.6.2"
  }
 },
 "nbformat": 4,
 "nbformat_minor": 2
}
