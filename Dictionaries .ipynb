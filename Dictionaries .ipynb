{
 "cells": [
  {
   "cell_type": "code",
   "execution_count": null,
   "metadata": {
    "collapsed": true
   },
   "outputs": [],
   "source": [
    "# [ ] The `data` list contains information about a company's employees.\n",
    "# Use the `data` list and an appropriate loop to create a dictionary of employees.\n",
    "# Use IDs (as keys) and names (as values).\n",
    "# Ignore the email addresses for now.\n",
    "\n",
    "# The created dictionary should look like:\n",
    "# {57394: 'Suresh Datta', 48539: 'Colette Browning', 58302: 'Skye Homsi', 48502: 'Hiroto Yamaguchi', 48291: 'Tobias Ledford', 48293: 'Jin Xu', 23945: 'Joana Dias', 85823: 'Alton Derosa'}\n",
    "\n",
    "data = [[\"Suresh Datta\", 57394, \"suresh@example.com\"], [\"Colette Browning\", 48539, \"colette@example.com\"], [\"Skye Homsi\", 58302, \"skye@example.com\"], [\"Hiroto Yamaguchi\", 48502, \"hiroto@example.com\"], [\"Tobias Ledford\", 48291, \"tobias@example.com\", \"Tamara Babic\", 58201, \"tamara@example.com\"], [\"Jin Xu\", 48293, \"jin@example.com\"], [\"Joana Dias\", 23945, \"joana@example.com\"], [\"Alton Derosa\", 85823, \"alton@example.com\"]]\n",
    "\n",
    "contdic = {}\n",
    "for contact in data:\n",
    "    contdic[contact[1]] = contact[0]\n",
    "print(contdic)\n"
   ]
  },
  {
   "cell_type": "code",
   "execution_count": 5,
   "metadata": {},
   "outputs": [
    {
     "name": "stdout",
     "output_type": "stream",
     "text": [
      "Insert the ID48539\n",
      "The name for the id 48539 is Colette Browning \n"
     ]
    }
   ],
   "source": [
    "# [ ] Use the `records` dictionary in a program that asks the user for an ID and prints the name of the associated employee.\n",
    "# Display an appropriate message if the ID is not found in the dictionary.\n",
    "records = {57394: 'Suresh Datta', 48539: 'Colette Browning', 58302: 'Skye Homsi', 48502: 'Hiroto Yamaguchi', 48291: 'Tobias Ledford', 48293: 'Jin Xu', 23945: 'Joana Dias', 85823: 'Alton Derosa'}\n",
    "userinput = int(input(\"Insert the ID\"))\n",
    "try:\n",
    "    print (\"The name for the id {0} is {1} \".format(userinput,records[userinput]))\n",
    "except KeyError:\n",
    "    print(\"The ID doesnt exist\")"
   ]
  },
  {
   "cell_type": "code",
   "execution_count": 11,
   "metadata": {},
   "outputs": [
    {
     "name": "stdout",
     "output_type": "stream",
     "text": [
      "Insert the ID4444\n",
      "The ID doesnt exist\n"
     ]
    }
   ],
   "source": [
    "# [ ] Use the `records` dictionary in a program to ask the user for an ID then delete the employee record associated with the ID\n",
    "# The program should display an appropriate message if the ID is not found in the dictionary.\n",
    "records = {57394: 'Suresh Datta', 487539: 'Colette Browning', 58302: 'Skye Homsi', 48502: 'Hiroto Yamaguchi', 48291: 'Tobias Ledford', 48293: 'Jin Xu', 23945: 'Joana Dias', 85823: 'Alton Derosa'}\n",
    "userinput = int(input(\"Insert the ID\"))\n",
    "try:\n",
    "    records.pop(userinput)\n",
    "    print(\"record removed\")\n",
    "except KeyError:\n",
    "    print(\"The ID doesnt exist\")"
   ]
  },
  {
   "cell_type": "code",
   "execution_count": 8,
   "metadata": {},
   "outputs": [
    {
     "name": "stdout",
     "output_type": "stream",
     "text": [
      "{57394: 'Suresh Datta', 58302: 'Skye Homsi', 48502: 'Hiroto Yamaguchi', 48291: 'Tobias Ledford', 48293: 'Jin Xu', 23945: 'Joana Dias', 85823: 'Alton Derosa'}\n"
     ]
    }
   ],
   "source": [
    "print(records)"
   ]
  },
  {
   "cell_type": "code",
   "execution_count": 13,
   "metadata": {},
   "outputs": [
    {
     "name": "stdout",
     "output_type": "stream",
     "text": [
      "['Suresh Datta', 'suresh@example.com']\n",
      "['Colette Browning', 'colette@example.com']\n",
      "['Skye Homsi', 'skye@example.com']\n",
      "['Hiroto Yamaguchi', 'hiroto@example.com']\n",
      "['Tobias Ledford', 'tobias@example.com']\n",
      "['Jin Xu', 'jin@example.com']\n",
      "['Joana Dias', 'joana@example.com']\n",
      "['Alton Derosa', 'alton@example.com']\n"
     ]
    }
   ],
   "source": [
    "# [ ] The `data` list contains information about a company's employees\n",
    "# Use the `data` list and an appropriate loop to create a dictionary of\n",
    "# IDs (as keys): [name, email] (as values)\n",
    "\n",
    "# The resulting dictionary should look like: \n",
    "# {57394: ['Suresh Datta', 'suresh@example.com'], 48539: ['Colette Browning', 'colette@example.com'], 58302: ['Skye Homsi', 'skye@example.com'], 48502: ['Hiroto Yamaguchi', 'hiroto@example.com'], 48291: ['Tobias Ledford', 'tobias@example.com'], 48293: ['Jin Xu', 'jin@example.com'], 23945: ['Joana Dias', 'joana@example.com'], 85823: ['Alton Derosa', 'alton@example.com']}\n",
    "data = [[\"Suresh Datta\", 57394, \"suresh@example.com\"], [\"Colette Browning\", 48539, \"colette@example.com\"], [\"Skye Homsi\", 58302, \"skye@example.com\"], [\"Hiroto Yamaguchi\", 48502, \"hiroto@example.com\"], [\"Tobias Ledford\", 48291, \"tobias@example.com\", \"Tamara Babic\", 58201, \"tamara@example.com\"], [\"Jin Xu\", 48293, \"jin@example.com\"], [\"Joana Dias\", 23945, \"joana@example.com\"], [\"Alton Derosa\", 85823, \"alton@example.com\"]]\n",
    "\n",
    "thedic = {}\n",
    "for item in data:\n",
    "    thedic[item[1]] = [item[0],item[2]]\n",
    "for key,values in thedic.items():\n",
    "    print(values)\n"
   ]
  },
  {
   "cell_type": "code",
   "execution_count": 21,
   "metadata": {},
   "outputs": [
    {
     "name": "stdout",
     "output_type": "stream",
     "text": [
      "Name    |        ID  |        Email\n",
      "__________________________________________________\n",
      "Joana Dias     |     23945  |  joana@example.com\n",
      "Tobias Ledford     |     48291  |  tobias@example.com\n",
      "Jin Xu     |     48293  |  jin@example.com\n",
      "Hiroto Yamaguchi     |     48502  |  hiroto@example.com\n",
      "Colette Browning     |     48539  |  colette@example.com\n",
      "Suresh Datta     |     57394  |  suresh@example.com\n",
      "Skye Homsi     |     58302  |  skye@example.com\n",
      "Alton Derosa     |     85823  |  alton@example.com\n"
     ]
    }
   ],
   "source": [
    "# [ ] Write a program to display the content of the `records` dictionary as shown here\n",
    "# Note the IDs are sorted in an ascending order\n",
    "\n",
    "'''\n",
    "        Name         |     ID     |        Email        \n",
    "________________________________________________________\n",
    "     Joana Dias      |   23945    |    joana@example.com\n",
    "   Tobias Ledford    |   48291    |   tobias@example.com\n",
    "       Jin Xu        |   48293    |      jin@example.com\n",
    "  Hiroto Yamaguchi   |   48502    |   hiroto@example.com\n",
    "  Colette Browning   |   48539    |  colette@example.com\n",
    "    Suresh Datta     |   57394    |   suresh@example.com\n",
    "     Skye Homsi      |   58302    |     skye@example.com\n",
    "    Alton Derosa     |   85823    |    alton@example.com\n",
    "'''\n",
    "records = {57394: ['Suresh Datta', 'suresh@example.com'], 48539: ['Colette Browning', 'colette@example.com'], 58302: ['Skye Homsi', 'skye@example.com'], 48502: ['Hiroto Yamaguchi', 'hiroto@example.com'], 48291: ['Tobias Ledford', 'tobias@example.com'], 48293: ['Jin Xu', 'jin@example.com'], 23945: ['Joana Dias', 'joana@example.com'], 85823: ['Alton Derosa', 'alton@example.com']}\n",
    "\n",
    "print(\"Name    |        ID  |        Email\")\n",
    "print (\"_____\"*10)\n",
    "for key,value in sorted(records.items()):\n",
    "    print(\"{0}     |     {1}  |  {2}\".format(value[0],key,value[1]))\n",
    "\n",
    "\n",
    "\n",
    "\n"
   ]
  },
  {
   "cell_type": "code",
   "execution_count": 29,
   "metadata": {},
   "outputs": [
    {
     "name": "stdout",
     "output_type": "stream",
     "text": [
      "{57394: ['Suresh Datta', 'suresh@example.org'], 48539: ['Colette Browning', 'colette@example.org'], 58302: ['Skye Homsi', 'skye@example.org'], 48502: ['Hiroto Yamaguchi', 'hiroto@example.org'], 48291: ['Tobias Ledford', 'tobias@example.org'], 48293: ['Jin Xu', 'jin@example.org'], 23945: ['Joana Dias', 'joana@example.org'], 85823: ['Alton Derosa', 'alton@example.org']}\n"
     ]
    }
   ],
   "source": [
    "# [ ] The company's domain has changed from (example.com) to (example.org)\n",
    "# Write a program to modify the email addresses in the `records` dictionary to reflect this change\n",
    "records = {57394: ['Suresh Datta', 'suresh@example.com'], 48539: ['Colette Browning', 'colette@example.com'], 58302: ['Skye Homsi', 'skye@example.com'], 48502: ['Hiroto Yamaguchi', 'hiroto@example.com'], 48291: ['Tobias Ledford', 'tobias@example.com'], 48293: ['Jin Xu', 'jin@example.com'], 23945: ['Joana Dias', 'joana@example.com'], 85823: ['Alton Derosa', 'alton@example.com']}\n",
    "for item in records.values():\n",
    "    item[1] = item[1].split('@')[0]+'@example.org'\n",
    "print(records)"
   ]
  },
  {
   "cell_type": "code",
   "execution_count": 30,
   "metadata": {},
   "outputs": [
    {
     "name": "stdout",
     "output_type": "stream",
     "text": [
      "['suresh@example.com', 'colette@example.com', 'skye@example.com', 'hiroto@example.com', 'tobias@example.com', 'jin@example.com', 'joana@example.com', 'alton@example.com']\n"
     ]
    }
   ],
   "source": [
    "# [ ] You want to send a mass email to all company employees, so you need a list of all the email addresses in `records`\n",
    "# Write a program to extract the email addresses from the `records` dictionary and store them in a list\n",
    "# The output list should look like:\n",
    "# ['suresh@example.com', 'colette@example.com', 'skye@example.com', 'hiroto@example.com', 'tobias@example.com', 'jin@example.com', 'joana@example.com', 'alton@example.com']\n",
    "# Hint: use the `.values()` method\n",
    "records = {57394: ['Suresh Datta', 'suresh@example.com'], 48539: ['Colette Browning', 'colette@example.com'], 58302: ['Skye Homsi', 'skye@example.com'], 48502: ['Hiroto Yamaguchi', 'hiroto@example.com'], 48291: ['Tobias Ledford', 'tobias@example.com'], 48293: ['Jin Xu', 'jin@example.com'], 23945: ['Joana Dias', 'joana@example.com'], 85823: ['Alton Derosa', 'alton@example.com']}\n",
    "\n",
    "thebiglist = []\n",
    "for thelist in records.values():\n",
    "    thebiglist.append(thelist[1])\n",
    "print(thebiglist)\n",
    "\n"
   ]
  },
  {
   "cell_type": "code",
   "execution_count": 33,
   "metadata": {},
   "outputs": [
    {
     "name": "stdout",
     "output_type": "stream",
     "text": [
      "Inser the name of the item you want to updateChocolate\n",
      "The item exists!\n",
      "insert the new price of the item8.9\n"
     ]
    }
   ],
   "source": [
    "# Write a program that can ONLY update the price of an existing grocery \n",
    "# in the `groceries` dictionary.\n",
    "# The item and updated price should be entered by the user.\n",
    "# If the user enters a new item, the program should not create \n",
    "# a new dictionary item. It should instead display an error message.\n",
    "\n",
    "groceries = {'Bread':2.26, 'Milk':3.62, 'Chocolate':1.59}\n",
    "\n",
    "userinput = input(\"Inser the name of the item you want to update\")\n",
    "if userinput in groceries.keys():\n",
    "    print(\"The item exists!\")\n",
    "    input2 = float(input(\"insert the new price of the item\"))\n",
    "    groceries[userinput] = input2"
   ]
  },
  {
   "cell_type": "code",
   "execution_count": 34,
   "metadata": {},
   "outputs": [
    {
     "name": "stdout",
     "output_type": "stream",
     "text": [
      "{'Bread': 2.26, 'Milk': 3.62, 'Chocolate': 8.9}\n"
     ]
    }
   ],
   "source": [
    "print(groceries)"
   ]
  },
  {
   "cell_type": "code",
   "execution_count": 35,
   "metadata": {},
   "outputs": [
    {
     "name": "stdout",
     "output_type": "stream",
     "text": [
      "8\n"
     ]
    }
   ],
   "source": [
    "# [ ] Write a program to find out the number of employees stored in `records`.\n",
    "records = {57394: ['Suresh Datta', 'suresh@example.com'], 48539: ['Colette Browning', 'colette@example.com'], 58302: ['Skye Homsi', 'skye@example.com'], 48502: ['Hiroto Yamaguchi', 'hiroto@example.com'], 48291: ['Tobias Ledford', 'tobias@example.com'], 48293: ['Jin Xu', 'jin@example.com'], 23945: ['Joana Dias', 'joana@example.com'], 85823: ['Alton Derosa', 'alton@example.com']}\n",
    "\n",
    "\n",
    "print(len(records.keys()))\n"
   ]
  },
  {
   "cell_type": "code",
   "execution_count": null,
   "metadata": {
    "collapsed": true
   },
   "outputs": [],
   "source": []
  }
 ],
 "metadata": {
  "kernelspec": {
   "display_name": "Python 3",
   "language": "python",
   "name": "python3"
  },
  "language_info": {
   "codemirror_mode": {
    "name": "ipython",
    "version": 3
   },
   "file_extension": ".py",
   "mimetype": "text/x-python",
   "name": "python",
   "nbconvert_exporter": "python",
   "pygments_lexer": "ipython3",
   "version": "3.5.4"
  }
 },
 "nbformat": 4,
 "nbformat_minor": 2
}
