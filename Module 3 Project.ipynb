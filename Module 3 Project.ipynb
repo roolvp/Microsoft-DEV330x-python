{
 "cells": [
  {
   "cell_type": "code",
   "execution_count": 1,
   "metadata": {},
   "outputs": [
    {
     "name": "stdout",
     "output_type": "stream",
     "text": [
      "[WinError 3] The system cannot find the path specified: '/home/nbuser/library/parent_dir/command_line'\n",
      "C:\\Users\\piusers\\MicroPython\\Microsoft-DEV330x-python\n"
     ]
    }
   ],
   "source": [
    "%cd \"/home/nbuser/library/parent_dir/command_line\""
   ]
  },
  {
   "cell_type": "code",
   "execution_count": 2,
   "metadata": {},
   "outputs": [
    {
     "name": "stdout",
     "output_type": "stream",
     "text": [
      "Writing plain_message.txt\n"
     ]
    }
   ],
   "source": [
    "%%writefile plain_message.txt\n",
    "\n",
    "Software is a great combination between artistry and engineering.\n",
    "\n",
    "--Bill Gates"
   ]
  },
  {
   "cell_type": "code",
   "execution_count": 3,
   "metadata": {},
   "outputs": [
    {
     "name": "stdout",
     "output_type": "stream",
     "text": [
      "Writing encrypted_message.txt\n"
     ]
    }
   ],
   "source": [
    "%%writefile encrypted_message.txt\n",
    "\n",
    "MHI LXVKXM!\n",
    "\n",
    "Mabl fxlltzx ptl xgvkrimxw nlbgz dxr = gbgxmxxg.\n",
    "\n",
    "tuvwxyzabcdefghijklmnopqrs\n",
    "\n",
    "TUVWXYZABCDEFGHIJKLMNOPQRS\n"
   ]
  },
  {
   "cell_type": "code",
   "execution_count": null,
   "metadata": {
    "collapsed": true
   },
   "outputs": [],
   "source": []
  }
 ],
 "metadata": {
  "kernelspec": {
   "display_name": "Python 3",
   "language": "python",
   "name": "python3"
  },
  "language_info": {
   "codemirror_mode": {
    "name": "ipython",
    "version": 3
   },
   "file_extension": ".py",
   "mimetype": "text/x-python",
   "name": "python",
   "nbconvert_exporter": "python",
   "pygments_lexer": "ipython3",
   "version": "3.6.2"
  }
 },
 "nbformat": 4,
 "nbformat_minor": 2
}
